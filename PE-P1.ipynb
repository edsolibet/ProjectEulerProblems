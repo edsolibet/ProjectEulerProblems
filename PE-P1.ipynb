{
 "cells": [
  {
   "cell_type": "markdown",
   "metadata": {},
   "source": [
    "**Problem 1**: If we list all the natural numbers below 10 that are multiples of 3 or 5, we get 3, 5, 6 and 9. The sum of these multiples is 23.\n",
    "\n",
    "Find the sum of all the multiples of 3 or 5 below 1000."
   ]
  },
  {
   "cell_type": "code",
   "execution_count": 62,
   "metadata": {},
   "outputs": [],
   "source": [
    "upper = 1000 # upper number\n",
    "div = [3, 5] # list of multiples to check\n",
    "\n",
    "def multiple_sum(upper, div):\n",
    "    tot = 0 # var holder for total sum\n",
    "    for i in range(upper):\n",
    "        for j in div:\n",
    "            if i % j == 0:\n",
    "                #print (i)\n",
    "                tot += i\n",
    "                break # jump out of 2nd for loop to prevent double counting \n",
    "    return tot"
   ]
  },
  {
   "cell_type": "code",
   "execution_count": 61,
   "metadata": {},
   "outputs": [
    {
     "name": "stdout",
     "output_type": "stream",
     "text": [
      "The total sum of natural numbers below 1000 is 233168\n"
     ]
    }
   ],
   "source": [
    "tot = multiple_sum(upper, div)\n",
    "print (\"The total sum of natural numbers below {} is {}\".format(upper, tot))"
   ]
  },
  {
   "cell_type": "code",
   "execution_count": null,
   "metadata": {},
   "outputs": [],
   "source": []
  }
 ],
 "metadata": {
  "kernelspec": {
   "display_name": "Python 3",
   "language": "python",
   "name": "python3"
  },
  "language_info": {
   "codemirror_mode": {
    "name": "ipython",
    "version": 3
   },
   "file_extension": ".py",
   "mimetype": "text/x-python",
   "name": "python",
   "nbconvert_exporter": "python",
   "pygments_lexer": "ipython3",
   "version": "3.7.4"
  }
 },
 "nbformat": 4,
 "nbformat_minor": 2
}
