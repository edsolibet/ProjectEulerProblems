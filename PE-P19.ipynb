{
 "cells": [
  {
   "cell_type": "markdown",
   "metadata": {},
   "source": [
    "## Counting Sundays\n",
    "\n",
    "**Problem 19**: How many Sundays fell on the first of the month during the twentieth century (1 Jan 1901 to 31 Dec 2000)?"
   ]
  },
  {
   "cell_type": "code",
   "execution_count": 1,
   "metadata": {},
   "outputs": [],
   "source": [
    "import pandas as pd\n",
    "import numpy as np"
   ]
  },
  {
   "cell_type": "code",
   "execution_count": 2,
   "metadata": {},
   "outputs": [
    {
     "data": {
      "text/plain": [
       "DatetimeIndex(['1901-01-06', '1901-01-13', '1901-01-20', '1901-01-27',\n",
       "               '1901-02-03', '1901-02-10', '1901-02-17', '1901-02-24',\n",
       "               '1901-03-03', '1901-03-10',\n",
       "               ...\n",
       "               '2000-10-29', '2000-11-05', '2000-11-12', '2000-11-19',\n",
       "               '2000-11-26', '2000-12-03', '2000-12-10', '2000-12-17',\n",
       "               '2000-12-24', '2000-12-31'],\n",
       "              dtype='datetime64[ns]', length=5218, freq='W-SUN')"
      ]
     },
     "execution_count": 2,
     "metadata": {},
     "output_type": "execute_result"
    }
   ],
   "source": [
    "# Generate dates in range which correspond to sundays\n",
    "dates = pd.date_range(start='1/1/1901', end='12/31/2000', freq='W-SUN')\n",
    "dates"
   ]
  },
  {
   "cell_type": "code",
   "execution_count": 3,
   "metadata": {},
   "outputs": [],
   "source": [
    "# Create dataframe with columns of the year, month, and day given from dates dataframe\n",
    "\n",
    "year = []\n",
    "month = []\n",
    "day = []\n",
    "for i in dates:\n",
    "    year.append(str(i)[:4])\n",
    "    month.append(str(i)[5:7])\n",
    "    day.append(str(i)[8:10])\n",
    "df_dates = pd.DataFrame(list(zip(year, month, day)), columns=['Year', 'Month', 'Day'])"
   ]
  },
  {
   "cell_type": "code",
   "execution_count": 5,
   "metadata": {},
   "outputs": [
    {
     "data": {
      "text/plain": [
       "(171, 3)"
      ]
     },
     "execution_count": 5,
     "metadata": {},
     "output_type": "execute_result"
    }
   ],
   "source": [
    "# find the rows which have '01' as the day\n",
    "df_dates[df_dates['Day']=='01'].shape"
   ]
  },
  {
   "cell_type": "code",
   "execution_count": null,
   "metadata": {},
   "outputs": [],
   "source": []
  }
 ],
 "metadata": {
  "kernelspec": {
   "display_name": "Python 3",
   "language": "python",
   "name": "python3"
  },
  "language_info": {
   "codemirror_mode": {
    "name": "ipython",
    "version": 3
   },
   "file_extension": ".py",
   "mimetype": "text/x-python",
   "name": "python",
   "nbconvert_exporter": "python",
   "pygments_lexer": "ipython3",
   "version": "3.7.4"
  }
 },
 "nbformat": 4,
 "nbformat_minor": 2
}
