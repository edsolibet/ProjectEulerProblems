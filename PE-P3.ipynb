{
 "cells": [
  {
   "cell_type": "markdown",
   "metadata": {},
   "source": [
    "# Largest prime factor\n",
    "\n",
    "**Problem 3**: The prime factors of 13195 are 5, 7, 13 and 29.\n",
    "\n",
    "What is the largest prime factor of the number 600851475143 ?"
   ]
  },
  {
   "cell_type": "code",
   "execution_count": 57,
   "metadata": {},
   "outputs": [],
   "source": [
    "import math\n",
    "\n",
    "def prime_gen(n):\n",
    "    arr = []\n",
    "    for i in range(n):\n",
    "        arr.append(2**(i)-1)\n",
    "    return arr\n",
    "\n",
    "def is_prime(num):\n",
    "    sq_check = math.floor(math.sqrt(num))\n",
    "    factors = range(2, sq_check)\n",
    "    for i in factors:\n",
    "        if num % i == 0:\n",
    "            return 0\n",
    "    return 1"
   ]
  },
  {
   "cell_type": "code",
   "execution_count": 79,
   "metadata": {},
   "outputs": [],
   "source": [
    "num = 600851475143\n",
    "check_lim = math.floor(math.sqrt(num))\n",
    "factors = sorted(list(range(2, check_lim+1)), reverse=True)"
   ]
  },
  {
   "cell_type": "markdown",
   "metadata": {},
   "source": [
    "Since we need the largest prime factor, we sort the list in descending order to reduce the computations needed to be performed."
   ]
  },
  {
   "cell_type": "code",
   "execution_count": 80,
   "metadata": {},
   "outputs": [
    {
     "name": "stdout",
     "output_type": "stream",
     "text": [
      "The largest prime factor of 600851475143 is 6857\n"
     ]
    }
   ],
   "source": [
    "for i in factors:\n",
    "    if num % i == 0:\n",
    "        if is_prime(i):\n",
    "            break\n",
    "print (\"The largest prime factor of {} is {}\".format(num, i))"
   ]
  },
  {
   "cell_type": "code",
   "execution_count": null,
   "metadata": {},
   "outputs": [],
   "source": []
  }
 ],
 "metadata": {
  "kernelspec": {
   "display_name": "Python 3",
   "language": "python",
   "name": "python3"
  },
  "language_info": {
   "codemirror_mode": {
    "name": "ipython",
    "version": 3
   },
   "file_extension": ".py",
   "mimetype": "text/x-python",
   "name": "python",
   "nbconvert_exporter": "python",
   "pygments_lexer": "ipython3",
   "version": "3.7.4"
  }
 },
 "nbformat": 4,
 "nbformat_minor": 2
}
