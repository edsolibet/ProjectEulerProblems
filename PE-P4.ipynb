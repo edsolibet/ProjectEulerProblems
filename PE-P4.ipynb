{
 "cells": [
  {
   "cell_type": "markdown",
   "metadata": {},
   "source": [
    "# Largest Palindrome Product\n",
    "\n",
    "**Problem 4**: A palindromic number reads the same both ways. The largest palindrome made from the product of two 2-digit numbers is 9009 = 91 × 99.\n",
    "\n",
    "Find the largest palindrome made from the product of two 3-digit numbers."
   ]
  },
  {
   "cell_type": "code",
   "execution_count": 39,
   "metadata": {},
   "outputs": [],
   "source": [
    "import math\n",
    "import numpy as np\n",
    "\n",
    "def is_palindrome(num):\n",
    "    num_str = list(str(num))\n",
    "    num_rev = list(np.flip(num_str,0))\n",
    "    if num_rev == num_str:\n",
    "        return 1\n",
    "    else:\n",
    "        return 0\n",
    "    "
   ]
  },
  {
   "cell_type": "code",
   "execution_count": 40,
   "metadata": {},
   "outputs": [
    {
     "name": "stdout",
     "output_type": "stream",
     "text": [
      "The largest palindrome is 906609\n"
     ]
    }
   ],
   "source": [
    "num_list = sorted(range(100, 999), reverse = True)\n",
    "palindrome_list = []\n",
    "for i in num_list:\n",
    "    for j in num_list:\n",
    "        if is_palindrome(i*j):\n",
    "            palindrome_list.append(i*j)\n",
    "\n",
    "print (\"The largest palindrome is {}\".format(np.max(palindrome_list)))"
   ]
  },
  {
   "cell_type": "code",
   "execution_count": null,
   "metadata": {},
   "outputs": [],
   "source": []
  }
 ],
 "metadata": {
  "kernelspec": {
   "display_name": "Python 3",
   "language": "python",
   "name": "python3"
  },
  "language_info": {
   "codemirror_mode": {
    "name": "ipython",
    "version": 3
   },
   "file_extension": ".py",
   "mimetype": "text/x-python",
   "name": "python",
   "nbconvert_exporter": "python",
   "pygments_lexer": "ipython3",
   "version": "3.7.4"
  }
 },
 "nbformat": 4,
 "nbformat_minor": 2
}
