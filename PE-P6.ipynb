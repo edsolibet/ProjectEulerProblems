{
 "cells": [
  {
   "cell_type": "markdown",
   "metadata": {},
   "source": [
    "# Sum Square Difference\n",
    "\n",
    "**Problem 5**:Find the difference between the sum of the squares of the first one hundred natural numbers and the square of the sum."
   ]
  },
  {
   "cell_type": "code",
   "execution_count": 6,
   "metadata": {},
   "outputs": [
    {
     "name": "stdout",
     "output_type": "stream",
     "text": [
      "The sum of the squares is 338350\n",
      "The square of the sum is 25502500\n",
      "The answer is 25164150\n"
     ]
    }
   ],
   "source": [
    "import numpy as np\n",
    "\n",
    "num_list = list(range(1, 101))\n",
    "sum_squares = sum(np.square(num_list))\n",
    "square_sum = np.square(sum(num_list))\n",
    "\n",
    "print (\"The sum of the squares is {}\".format(sum_squares))\n",
    "print (\"The square of the sum is {}\".format(square_sum))\n",
    "\n",
    "print (\"The answer is {}\".format(abs(sum_squares - square_sum))) # take the absolute value"
   ]
  },
  {
   "cell_type": "code",
   "execution_count": null,
   "metadata": {},
   "outputs": [],
   "source": []
  }
 ],
 "metadata": {
  "kernelspec": {
   "display_name": "Python 3",
   "language": "python",
   "name": "python3"
  },
  "language_info": {
   "codemirror_mode": {
    "name": "ipython",
    "version": 3
   },
   "file_extension": ".py",
   "mimetype": "text/x-python",
   "name": "python",
   "nbconvert_exporter": "python",
   "pygments_lexer": "ipython3",
   "version": "3.7.4"
  }
 },
 "nbformat": 4,
 "nbformat_minor": 2
}
