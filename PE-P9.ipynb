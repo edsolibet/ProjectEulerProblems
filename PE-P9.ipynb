{
 "cells": [
  {
   "cell_type": "markdown",
   "metadata": {},
   "source": [
    "# Special Pythagorean Triplet\n",
    "\n",
    "**Problem 9**: There exists exactly one Pythagorean triplet for which a + b + c = 1000.\n",
    "Find the product abc."
   ]
  },
  {
   "cell_type": "code",
   "execution_count": 13,
   "metadata": {},
   "outputs": [],
   "source": [
    "import numpy as np\n",
    "\n",
    "# Function to check if pythagorean triplet\n",
    "def is_py_triplet(a, b, c):\n",
    "    if sum(np.square([a,b]))==np.square(c):\n",
    "        return 1\n",
    "    return 0"
   ]
  },
  {
   "cell_type": "code",
   "execution_count": 21,
   "metadata": {},
   "outputs": [
    {
     "name": "stdout",
     "output_type": "stream",
     "text": [
      "[200, 375, 425]\n"
     ]
    }
   ],
   "source": [
    "triplets = []\n",
    "\n",
    "# iterate\n",
    "for i in range(1, 998):\n",
    "    for j in range(i+1, 998):\n",
    "        if is_py_triplet(i, j, 1000-i-j):\n",
    "            triplets = [i, j, 1000-i-j]\n",
    "            break"
   ]
  },
  {
   "cell_type": "code",
   "execution_count": 22,
   "metadata": {},
   "outputs": [
    {
     "name": "stdout",
     "output_type": "stream",
     "text": [
      "The product of Pythagorean triplets 200, 375, and 425 is 31875000\n"
     ]
    }
   ],
   "source": [
    "a, b, c = triplets\n",
    "print (\"The product of Pythagorean triplets {}, {}, and {} is {}\".format(a, b, c, a*b*c))"
   ]
  }
 ],
 "metadata": {
  "kernelspec": {
   "display_name": "Python 3",
   "language": "python",
   "name": "python3"
  },
  "language_info": {
   "codemirror_mode": {
    "name": "ipython",
    "version": 3
   },
   "file_extension": ".py",
   "mimetype": "text/x-python",
   "name": "python",
   "nbconvert_exporter": "python",
   "pygments_lexer": "ipython3",
   "version": "3.7.4"
  }
 },
 "nbformat": 4,
 "nbformat_minor": 2
}
